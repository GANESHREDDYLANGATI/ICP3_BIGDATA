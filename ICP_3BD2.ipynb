{
  "nbformat": 4,
  "nbformat_minor": 0,
  "metadata": {
    "colab": {
      "provenance": []
    },
    "kernelspec": {
      "name": "python3",
      "display_name": "Python 3"
    },
    "language_info": {
      "name": "python"
    }
  },
  "cells": [
    {
      "cell_type": "code",
      "execution_count": 5,
      "metadata": {
        "colab": {
          "base_uri": "https://localhost:8080/"
        },
        "id": "ZeTI6IQZfSOR",
        "outputId": "30133ec1-a838-4d15-a38e-fba8f13291fd"
      },
      "outputs": [
        {
          "output_type": "stream",
          "name": "stdout",
          "text": [
            "Original Vector:\n",
            " [ 2  5 12  3  8 16  4 15 11 20 19 19 12  9  4]\n",
            "\n",
            "Reshaped Array (3x5):\n",
            " [[ 2  5 12  3  8]\n",
            " [16  4 15 11 20]\n",
            " [19 19 12  9  4]]\n",
            "\n",
            "Array Shape: (3, 5)\n",
            "\n",
            "Final Array (max in each row replaced with 0):\n",
            " [[ 2  5  0  3  8]\n",
            " [16  4 15 11  0]\n",
            " [ 0 19 12  9  4]]\n"
          ]
        }
      ],
      "source": [
        "import numpy as np\n",
        "\n",
        "# Step 1: Create a random vector of size 15 with integers from 1 to 20\n",
        "arr = np.random.randint(1, 21, size=15)\n",
        "print(\"Original Vector:\\n\", arr)\n",
        "\n",
        "# Step 2: Reshape the array to 3 rows and 5 columns\n",
        "arr = arr.reshape(3, 5)\n",
        "print(\"\\nReshaped Array (3x5):\\n\", arr)\n",
        "\n",
        "# Step 3: Print the shape of the array\n",
        "print(\"\\nArray Shape:\", arr.shape)\n",
        "\n",
        "# Step 4: Replace the max in each row with 0 (vectorized method)\n",
        "row_indices = np.arange(arr.shape[0])\n",
        "max_indices = arr.argmax(axis=1)\n",
        "arr[row_indices, max_indices] = 0\n",
        "\n",
        "# Step 5: Print final result\n",
        "print(\"\\nFinal Array (max in each row replaced with 0):\\n\", arr)\n"
      ]
    },
    {
      "cell_type": "code",
      "source": [
        "import numpy as np\n",
        "\n",
        "# Step 1: Create a 2D array of size 4x3 with 4-byte integer elements (int32)\n",
        "arr = np.array([[1, 2, 3],\n",
        "                [4, 5, 6],\n",
        "                [7, 8, 9],\n",
        "                [10, 11, 12]], dtype=np.int32)\n",
        "\n",
        "# Step 2: Print the array\n",
        "print(\"Array:\\n\", arr)\n",
        "\n",
        "# Step 3: Print the shape of the array\n",
        "print(\"\\nShape:\", arr.shape)\n",
        "\n",
        "# Step 4: Print the type of the array\n",
        "print(\"Type:\", type(arr))\n",
        "\n",
        "# Step 5: Print the data type of the elements\n",
        "print(\"Data type of elements:\", arr.dtype)\n"
      ],
      "metadata": {
        "colab": {
          "base_uri": "https://localhost:8080/"
        },
        "id": "D3Sd_WzQfszi",
        "outputId": "7e74628b-c36d-4dbc-f37a-67b1dcf80d62"
      },
      "execution_count": null,
      "outputs": [
        {
          "output_type": "stream",
          "name": "stdout",
          "text": [
            "Array:\n",
            " [[ 1  2  3]\n",
            " [ 4  5  6]\n",
            " [ 7  8  9]\n",
            " [10 11 12]]\n",
            "\n",
            "Shape: (4, 3)\n",
            "Type: <class 'numpy.ndarray'>\n",
            "Data type of elements: int32\n"
          ]
        }
      ]
    },
    {
      "cell_type": "code",
      "source": [
        "import numpy as np\n",
        "\n",
        "# Step 1: Define the square matrix\n",
        "matrix = np.array([[3, -2],\n",
        "                   [1,  0]])\n",
        "\n",
        "# Step 2: Compute eigenvalues and right eigenvectors\n",
        "eigenvalues, eigenvectors = np.linalg.eig(matrix)\n",
        "\n",
        "# Step 3: Print the results\n",
        "print(\"Matrix:\\n\", matrix)\n",
        "print(\"\\nEigenvalues:\\n\", eigenvalues)\n",
        "print(\"\\nRight Eigenvectors (each column is an eigenvector):\\n\", eigenvectors)\n"
      ],
      "metadata": {
        "colab": {
          "base_uri": "https://localhost:8080/"
        },
        "id": "s8I6Q6XCgIqN",
        "outputId": "3fdafd26-396b-44f1-d43f-6ba588986523"
      },
      "execution_count": null,
      "outputs": [
        {
          "output_type": "stream",
          "name": "stdout",
          "text": [
            "Matrix:\n",
            " [[ 3 -2]\n",
            " [ 1  0]]\n",
            "\n",
            "Eigenvalues:\n",
            " [2. 1.]\n",
            "\n",
            "Right Eigenvectors (each column is an eigenvector):\n",
            " [[0.89442719 0.70710678]\n",
            " [0.4472136  0.70710678]]\n"
          ]
        }
      ]
    },
    {
      "cell_type": "code",
      "source": [
        "import numpy as np\n",
        "\n",
        "# Step 1: Define the array\n",
        "arr = np.array([[0, 1, 2],\n",
        "                [3, 4, 5]])\n",
        "\n",
        "# Step 2: Compute the diagonal\n",
        "diagonal_elements = np.diag(arr)\n",
        "\n",
        "# Step 3: Compute the sum\n",
        "sum_diagonal = np.sum(diagonal_elements)\n",
        "\n",
        "# Print results\n",
        "print(\"Array:\\n\", arr)\n",
        "print(\"\\nDiagonal Elements:\", diagonal_elements)\n",
        "print(\"Sum of Diagonal Elements:\", sum_diagonal)\n"
      ],
      "metadata": {
        "colab": {
          "base_uri": "https://localhost:8080/"
        },
        "id": "VV3emWsagn6V",
        "outputId": "a8f6461f-df8a-458e-951a-38467a9717c5"
      },
      "execution_count": null,
      "outputs": [
        {
          "output_type": "stream",
          "name": "stdout",
          "text": [
            "Array:\n",
            " [[0 1 2]\n",
            " [3 4 5]]\n",
            "\n",
            "Diagonal Elements: [0 4]\n",
            "Sum of Diagonal Elements: 4\n"
          ]
        }
      ]
    },
    {
      "cell_type": "code",
      "source": [
        "import numpy as np\n",
        "\n",
        "# Original array 3x2\n",
        "arr = np.array([[1, 2],\n",
        "                [3, 4],\n",
        "                [5, 6]])\n",
        "print(\"Original array (3x2):\")\n",
        "print(arr)\n",
        "\n",
        "# Reshape to 2x3\n",
        "reshaped_arr = arr.reshape(2, 3)\n",
        "print(\"\\nReshaped array (2x3):\")\n",
        "print(reshaped_arr)\n"
      ],
      "metadata": {
        "colab": {
          "base_uri": "https://localhost:8080/"
        },
        "id": "IdO1Nb6uhtPJ",
        "outputId": "af3c2da0-806c-4142-b599-d59b7a5335e5"
      },
      "execution_count": null,
      "outputs": [
        {
          "output_type": "stream",
          "name": "stdout",
          "text": [
            "Original array (3x2):\n",
            "[[1 2]\n",
            " [3 4]\n",
            " [5 6]]\n",
            "\n",
            "Reshaped array (2x3):\n",
            "[[1 2 3]\n",
            " [4 5 6]]\n"
          ]
        }
      ]
    },
    {
      "cell_type": "code",
      "source": [],
      "metadata": {
        "id": "OeyjwCpfiV2i"
      },
      "execution_count": null,
      "outputs": []
    }
  ]
}